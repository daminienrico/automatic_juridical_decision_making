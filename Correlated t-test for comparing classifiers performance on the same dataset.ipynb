{
 "cells": [
  {
   "cell_type": "markdown",
   "metadata": {},
   "source": [
    "# Bayesian Correlated t-test\n",
    "Module `correlated_ttest` in `bayesiantests` can be used to perform the correlated t-test on the performance of two classifiers that have been assessed by $m$-runs of $k$-fold cross-validation  on the same dataset"
   ]
  },
  {
   "cell_type": "code",
   "execution_count": 46,
   "metadata": {},
   "outputs": [],
   "source": [
    "import numpy as np\n",
    "article=\"Article03\"\n",
    "#per salvare np.savetxt('acc_model_1', matr)\n",
    "Acc_model_1 = np.loadtxt('results/'+article)# l'equivalente che ho è : np.zeros((10,10),'float')\n",
    "Acc_model_1 = np.reshape(Acc_model_1,100,'float')\n",
    "Acc_Medvedeva = np.loadtxt('medvedeva/'+article)\n",
    "Acc_Medvedeva =np.reshape(Acc_Medvedeva,100,'float')\n",
    "#applico flat (o reshape) sulla mia matrice 10x10 e inizializzo le variabili\n",
    "#Acc_model_1 e Acc_Medvedeva\n",
    "names = (\"Medvedeva\",\"Model5\")\n",
    "x=np.zeros((len(Acc_model_1),2),'float')\n",
    "x[:,1]=Acc_model_1\n",
    "x[:,0]=Acc_Medvedeva"
   ]
  },
  {
   "cell_type": "code",
   "execution_count": 47,
   "metadata": {},
   "outputs": [
    {
     "name": "stdout",
     "output_type": "stream",
     "text": [
      "0.7706309523809525\n"
     ]
    },
    {
     "data": {
      "text/plain": [
       "0.7588148893360159"
      ]
     },
     "execution_count": 47,
     "metadata": {},
     "output_type": "execute_result"
    }
   ],
   "source": [
    "print(Acc_Medvedeva.mean())\n",
    "Acc_model_1.mean()"
   ]
  },
  {
   "cell_type": "markdown",
   "metadata": {},
   "source": [
    "Functions in the module accept the following arguments.\n",
    "\n",
    "- `x`: a 2-d array with scores of two models (each row corresponding to a data set) or a vector of differences.\n",
    "- `rope`: the region of practical equivalence. We consider two classifiers equivalent if the difference in their performance is smaller than `rope`. \n",
    "- `runs`:  number of repetitions of cross validation \n",
    "- `names`: the names of the two classifiers; if `x` is a vector of differences, positive values mean that the second (right) model had a higher score.\n",
    "- `verbose`: when True the functions also prints out the probabilities"
   ]
  },
  {
   "cell_type": "code",
   "execution_count": 48,
   "metadata": {},
   "outputs": [
    {
     "name": "stdout",
     "output_type": "stream",
     "text": [
      "P(Medvedeva > Model5) = 0.5314678893682416, P(rope) = 0.296559293326222, P(Model5 > Medvedeva) = 0.17197281730553637\n"
     ]
    }
   ],
   "source": [
    "import bayesiantests as bt\n",
    "rope=0.01\n",
    "left, within, right = bt.correlated_ttest(x, rope=rope,runs=10,verbose=True,names=names)"
   ]
  },
  {
   "cell_type": "markdown",
   "metadata": {},
   "source": [
    "We can also plot the posterior distribution. "
   ]
  },
  {
   "cell_type": "code",
   "execution_count": 49,
   "metadata": {},
   "outputs": [
    {
     "data": {
      "text/plain": [
       "Text(0.5,0,'Medvedeva-Model5 on Article 8')"
      ]
     },
     "execution_count": 49,
     "metadata": {},
     "output_type": "execute_result"
    },
    {
     "data": {
      "image/png": "[encoded data removed]",
      "text/plain": [
       "<Figure size 432x288 with 1 Axes>"
      ]
     },
     "metadata": {},
     "output_type": "display_data"
    }
   ],
   "source": [
    "import warnings\n",
    "warnings.filterwarnings('ignore')\n",
    "%matplotlib inline\n",
    "import matplotlib.pyplot as plt\n",
    "import seaborn as snb\n",
    "#generate samples from posterior (it is not necesssary because the posterior is a Student)\n",
    "samples=bt.correlated_ttest_MC(x, rope=rope,runs=10,nsamples=50000)\n",
    "#plot posterior\n",
    "snb.kdeplot(samples, shade=True) \n",
    "#plot rope region\n",
    "plt.axvline(x=-rope,color='orange')\n",
    "plt.axvline(x=rope,color='orange')\n",
    "#add label\n",
    "plt.xlabel('Medvedeva-Model5 on Article 8') "
   ]
  },
  {
   "cell_type": "markdown",
   "metadata": {
    "collapsed": true
   },
   "source": [
    "## References \n",
    "\n",
    "`@ARTICLE{bayesiantests2016,\n",
    "   author = {{Benavoli}, A. and {Corani}, G. and {Demsar}, J. and {Zaffalon}, M.},\n",
    "   title = \"{Time for a change: a tutorial for comparing multiple classifiers through Bayesian analysis}\",\n",
    "   journal = {ArXiv e-prints},\n",
    "   archivePrefix = \"arXiv\",\n",
    "   eprint = {1606.04316},\n",
    "   url={https://arxiv.org/abs/1606.04316},\n",
    "   year = 2016,\n",
    "   month = jun\n",
    "}`\n",
    "\n",
    "`@article{corani2015a,\n",
    "  year = {2015},\n",
    "  volume = {100},\n",
    "  number = {2},\n",
    "  journal = {Machine Learning},\n",
    "  doi = {10.1007/s10994-015-5486-z},\n",
    "  title = {{A Bayesian approach for comparing cross-validated algorithms on multiple data sets}},\n",
    "  publisher = {Springer US},\n",
    "  author = {Corani, Giorgio and Benavoli, Alessio},\n",
    "  pages = {285--304},\n",
    "  url = {http://www.idsia.ch/~alessio/corani2015a.pdf}\n",
    "}`"
   ]
  }
 ],
 "metadata": {
  "kernelspec": {
   "display_name": "Python 3",
   "language": "python",
   "name": "python3"
  },
  "language_info": {
   "codemirror_mode": {
    "name": "ipython",
    "version": 3
   },
   "file_extension": ".py",
   "mimetype": "text/x-python",
   "name": "python",
   "nbconvert_exporter": "python",
   "pygments_lexer": "ipython3",
   "version": "3.6.5"
  },
  "varInspector": {
   "cols": {
    "lenName": 16,
    "lenType": 16,
    "lenVar": 40
   },
   "kernels_config": {
    "python": {
     "delete_cmd_postfix": "",
     "delete_cmd_prefix": "del ",
     "library": "var_list.py",
     "varRefreshCmd": "print(var_dic_list())"
    },
    "r": {
     "delete_cmd_postfix": ") ",
     "delete_cmd_prefix": "rm(",
     "library": "var_list.r",
     "varRefreshCmd": "cat(var_dic_list()) "
    }
   },
   "types_to_exclude": [
    "module",
    "function",
    "builtin_function_or_method",
    "instance",
    "_Feature"
   ],
   "window_display": false
  }
 },
 "nbformat": 4,
 "nbformat_minor": 1
}
