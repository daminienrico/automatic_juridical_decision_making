{
 "cells": [
  {
   "cell_type": "markdown",
   "metadata": {},
   "source": [
    "# Bayesian Hierarchical Test\n",
    "\n",
    "Module `hierarchical` in `bayesiantests` compares the performance of two classifiers that have been assessed by *m*-runs of *k*-fold cross-validation on *q* datasets. It returns probabilities that, based on the measured performance, one model is better than another or vice versa or they are within the region of practical equivalence.\n"
   ]
  },
  {
   "cell_type": "markdown",
   "metadata": {
    "collapsed": true
   },
   "source": [
    "We will load the 10-folds, 10-runs cross-validation results of the Model 5 and Medvedeva model on 9 datasets corisponding to the articles. Then we calculate the differences of accuracies in the $10 \\times 10=100$ (columns) ripetions and 9 datasets (rows). "
   ]
  },
  {
   "cell_type": "code",
   "execution_count": 6,
   "metadata": {},
   "outputs": [
    {
     "name": "stdout",
     "output_type": "stream",
     "text": [
      "[array([ 0.14285714,  0.02678571, -0.16071429,  0.01785714, -0.24107143,\n",
      "        0.15178571, -0.02678571,  0.41964286, -0.0625    , -0.02678571,\n",
      "        0.        ,  0.14285714,  0.        , -0.07142857, -0.07142857,\n",
      "        0.07142857,  0.28571429, -0.14285714, -0.21428571,  0.14285714,\n",
      "       -0.14285714, -0.28571429,  0.28571429,  0.35714286, -0.07142857,\n",
      "       -0.35714286,  0.14285714,  0.35714286, -0.07142857,  0.07142857,\n",
      "       -0.07142857, -0.21428571, -0.07142857,  0.        , -0.07142857,\n",
      "        0.14285714,  0.35714286,  0.35714286, -0.07142857, -0.07142857,\n",
      "       -0.21428571, -0.07142857, -0.07142857, -0.14285714, -0.14285714,\n",
      "       -0.28571429,  0.21428571, -0.07142857,  0.        , -0.35714286,\n",
      "        0.07142857, -0.21428571,  0.28571429, -0.14285714,  0.35714286,\n",
      "        0.28571429,  0.14285714, -0.21428571,  0.21428571,  0.28571429,\n",
      "       -0.14285714,  0.        ,  0.28571429,  0.07142857, -0.14285714,\n",
      "       -0.21428571,  0.        , -0.14285714,  0.28571429,  0.07142857,\n",
      "       -0.07142857, -0.07142857,  0.07142857, -0.14285714, -0.07142857,\n",
      "        0.14285714, -0.28571429, -0.28571429, -0.07142857,  0.21428571,\n",
      "        0.07142857, -0.14285714, -0.21428571,  0.07142857,  0.        ,\n",
      "       -0.28571429, -0.57142857,  0.14285714, -0.14285714,  0.07142857,\n",
      "        0.21428571,  0.14285714, -0.21428571,  0.14285714,  0.14285714,\n",
      "        0.14285714, -0.42857143, -0.07142857, -0.21428571, -0.21428571]), array([ 0.03912363, -0.00273865, -0.19953052,  0.05262128, -0.17057903,\n",
      "       -0.03149452, -0.11502347, -0.00371674, -0.04557903,  0.01115023,\n",
      "       -0.07296557,  0.00997653, -0.08705008, -0.01780125, -0.00371674,\n",
      "        0.02484351, -0.01643192, -0.01819249,  0.08059468,  0.12265258,\n",
      "        0.03931925,  0.0528169 , -0.05888106, -0.00293427, -0.07394366,\n",
      "       -0.12891236,  0.02523474, -0.12949922, -0.05907668, -0.00254304,\n",
      "       -0.00352113, -0.08626761,  0.09448357,  0.01036776,  0.03873239,\n",
      "        0.01036776,  0.02425665,  0.05242567,  0.010759  , -0.10093897,\n",
      "        0.01017214,  0.10837246, -0.03071205, -0.04518779, -0.05907668,\n",
      "        0.05301252,  0.02425665,  0.01134585, -0.15649452,  0.01017214,\n",
      "       -0.02474849, -0.09557344,  0.01750503, -0.01126761,  0.0028169 ,\n",
      "        0.08873239, -0.09577465,  0.06016097, -0.01126761,  0.03179074,\n",
      "       -0.09617706,  0.01710262,  0.04627767, -0.16720322,  0.11770624,\n",
      "       -0.03943662, -0.038833  , -0.03943662, -0.05311871, -0.05392354,\n",
      "        0.07384306, -0.02535211,  0.04547284,  0.01790744, -0.02394366,\n",
      "        0.04607646,  0.01770624, -0.02454728, -0.02414487, -0.09537223,\n",
      "        0.00321932, -0.05251509,  0.0750503 ,  0.01750503,  0.07303823,\n",
      "       -0.03903421, -0.01066398,  0.05975855, -0.01146881,  0.00342052,\n",
      "       -0.07142857, -0.08571429,  0.08571429, -0.07142857, -0.04285714,\n",
      "       -0.07142857,  0.07142857, -0.08571429,  0.08571429,  0.02857143]), array([-0.02631579,  0.05263158, -0.07894737, -0.05263158,  0.10526316,\n",
      "       -0.02631579,  0.05263158, -0.21052632, -0.05263158,  0.07894737,\n",
      "       -0.02631579, -0.02631579,  0.        , -0.07894737,  0.13157895,\n",
      "        0.05263158,  0.        ,  0.        , -0.15789474,  0.05263158,\n",
      "       -0.05263158,  0.15789474, -0.05263158,  0.23684211,  0.15789474,\n",
      "        0.02631579,  0.05263158,  0.10526316,  0.07894737, -0.02631579,\n",
      "       -0.07894737,  0.02631579, -0.07894737,  0.10526316, -0.07894737,\n",
      "        0.02631579, -0.13157895, -0.13157895,  0.15789474,  0.02631579,\n",
      "        0.12660028,  0.01920341,  0.01778094,  0.07325747, -0.06116643,\n",
      "        0.09886202, -0.08677098,  0.04338549,  0.01778094,  0.15007112,\n",
      "        0.02062589,  0.0455192 , -0.1401138 , -0.08819346, -0.00995733,\n",
      "       -0.03271693, -0.0625889 ,  0.07112376, -0.08748222, -0.13940256,\n",
      "        0.0170697 , -0.00853485,  0.04409673, -0.0341394 , -0.05903272,\n",
      "       -0.14509246,  0.12375533, -0.1401138 ,  0.01849218, -0.16785206,\n",
      "        0.09815078, -0.05974395,  0.07183499,  0.12660028, -0.16642959,\n",
      "       -0.24751067,  0.15220484, -0.03200569,  0.1514936 , -0.00640114,\n",
      "        0.00750751,  0.00825826,  0.1996997 , -0.13138138, -0.10135135,\n",
      "       -0.0472973 ,  0.09084084, -0.09834835, -0.15840841, -0.01876877,\n",
      "       -0.04654655,  0.03528529,  0.03528529,  0.06306306,  0.1463964 ,\n",
      "        0.03828829,  0.09084084,  0.06306306,  0.08858859,  0.03528529]), array([-0.12353823, -0.1577961 , -0.14962519, -0.11476762, -0.06341829,\n",
      "       -0.10629685, -0.12361319, -0.0368066 , -0.08035982, -0.07158921,\n",
      "       -0.11083143, -0.1460717 , -0.12875667, -0.18954996, -0.2245614 ,\n",
      "       -0.11144165, -0.0238749 , -0.14630053, -0.09374523, -0.20739893,\n",
      "       -0.09649123, -0.04385965, -0.21929825, -0.07017544, -0.03508772,\n",
      "       -0.11403509, -0.09649123,  0.00877193, -0.21929825, -0.14912281,\n",
      "       -0.09649123, -0.07894737, -0.21052632, -0.01754386, -0.25438596,\n",
      "       -0.15789474, -0.06140351, -0.13157895, -0.14912281, -0.15789474,\n",
      "       -0.11403509, -0.24561404, -0.07017544, -0.11403509, -0.02631579,\n",
      "       -0.15789474, -0.14035088, -0.19298246, -0.09649123, -0.10526316,\n",
      "       -0.19298246, -0.1754386 , -0.14035088, -0.12280702, -0.14035088,\n",
      "       -0.19298246, -0.22807018, -0.18421053, -0.02631579, -0.14912281,\n",
      "       -0.03508772, -0.14035088, -0.14912281, -0.14035088, -0.07894737,\n",
      "       -0.09649123, -0.0877193 , -0.1754386 , -0.11403509, -0.12280702,\n",
      "       -0.14912281,  0.02631579, -0.14035088, -0.14035088, -0.14912281,\n",
      "       -0.10526316, -0.06140351, -0.09649123, -0.14912281, -0.13157895,\n",
      "       -0.07894737, -0.0877193 , -0.11403509, -0.16666667, -0.19298246,\n",
      "       -0.07894737, -0.13157895, -0.18421053, -0.13157895, -0.10526316,\n",
      "       -0.14035088, -0.26315789, -0.10526316, -0.15789474, -0.14035088,\n",
      "       -0.12280702, -0.01754386, -0.16666667, -0.15789474, -0.07017544]), array([ 0.25559589,  0.01058681,  0.06352087,  0.13188143,  0.13309135,\n",
      "        0.13278887, -0.05807623, -0.04022989,  0.06352087,  0.13309135,\n",
      "        0.04567453,  0.18542045, -0.07622505,  0.06412583,  0.01179673,\n",
      "        0.06442831,  0.02843315,  0.02813067,  0.04627949, -0.00756201,\n",
      "        0.10072595, -0.07743497,  0.23684211, -0.00665457,  0.09739867,\n",
      "        0.16575923,  0.09770115,  0.02722323,  0.13309135, -0.05747126,\n",
      "        0.28977616,  0.16757411,  0.04597701,  0.01149425,  0.01088929,\n",
      "        0.16848155,  0.04506957,  0.20326679,  0.18390805,  0.11494253,\n",
      "        0.06291591,  0.16727163,  0.08015729, -0.04174229,  0.02813067,\n",
      "       -0.02450091,  0.04506957,  0.18511797,  0.08076225,  0.04506957,\n",
      "        0.03508772,  0.05263158,  0.1754386 ,  0.12280702,  0.14035088,\n",
      "        0.26315789,  0.22807018,  0.05263158,  0.05263158,  0.10526316,\n",
      "       -0.06516291,  0.02506266,  0.09492481,  0.09367168,  0.09398496,\n",
      "        0.00626566,  0.07769424,  0.07675439,  0.00657895,  0.21867168,\n",
      "        0.00657895,  0.12907268, -0.06453634,  0.06015038,  0.05889724,\n",
      "        0.13032581,  0.00720551,  0.13032581,  0.0952381 ,  0.05764411,\n",
      "       -0.1343985 ,  0.02443609,  0.05858396,  0.00595238,  0.04166667,\n",
      "        0.04135338,  0.07675439,  0.09429825,  0.00595238,  0.07769424,\n",
      "        0.14724311,  0.07675439,  0.04166667,  0.05921053,  0.1137218 ,\n",
      "       -0.08270677, -0.02944862, -0.11591479, -0.01190476,  0.05983709]), array([-0.3452381 ,  0.05555556, -0.12037037,  0.13095238, -0.04365079,\n",
      "       -0.16005291,  0.02777778,  0.05687831,  0.05820106, -0.26851852,\n",
      "       -0.23148148, -0.08597884, -0.08465608, -0.15608466, -0.19444444,\n",
      "       -0.01455026, -0.0489418 , -0.04761905, -0.08465608, -0.15873016,\n",
      "       -0.30291005, -0.33994709,  0.05687831, -0.01322751, -0.01322751,\n",
      "       -0.01322751, -0.01455026, -0.08465608, -0.15873016,  0.13359788,\n",
      "       -0.4002849 , -0.17521368, -0.21082621, -0.1011396 , -0.02421652,\n",
      "        0.01139601,  0.24074074, -0.13675214, -0.02849003, -0.14102564,\n",
      "       -0.19230769, -0.23076923, -0.07692308,  0.07692308,  0.03846154,\n",
      "        0.03846154, -0.19230769,  0.03846154,  0.11538462, -0.15384615,\n",
      "       -0.03846154,  0.38461538,  0.03846154, -0.07692308, -0.07692308,\n",
      "       -0.11538462, -0.03846154, -0.07692308,  0.        ,  0.11538462,\n",
      "        0.15384615, -0.03846154, -0.11538462, -0.19230769,  0.        ,\n",
      "       -0.07692308,  0.07692308, -0.07692308, -0.07692308,  0.03846154,\n",
      "        0.        , -0.11538462, -0.03846154, -0.07692308,  0.15384615,\n",
      "        0.        ,  0.15384615, -0.15384615, -0.11538462, -0.03846154,\n",
      "        0.15384615,  0.07692308, -0.15384615,  0.15384615,  0.        ,\n",
      "       -0.07692308, -0.03846154, -0.30769231, -0.07692308,  0.03846154,\n",
      "        0.        , -0.26923077,  0.19230769, -0.03846154,  0.        ,\n",
      "       -0.19230769, -0.46153846,  0.26923077, -0.11538462, -0.11538462]), array([-0.125     , -0.125     , -0.125     ,  0.        ,  0.375     ,\n",
      "        0.125     ,  0.125     ,  0.125     ,  0.125     , -0.125     ,\n",
      "       -0.25      ,  0.25      ,  0.125     ,  0.        , -0.5       ,\n",
      "       -0.25      ,  0.5       ,  0.375     ,  0.25      , -0.25      ,\n",
      "        0.        , -0.125     ,  0.125     , -0.25      , -0.125     ,\n",
      "        0.125     ,  0.25      ,  0.        , -0.25      ,  0.        ,\n",
      "        0.125     ,  0.125     , -0.5       ,  0.75      , -0.25      ,\n",
      "        0.125     , -0.125     , -0.25      , -0.125     , -0.125     ,\n",
      "        0.125     ,  0.125     ,  0.25      , -0.375     ,  0.375     ,\n",
      "       -0.25      , -0.25      , -0.25      , -0.375     ,  0.125     ,\n",
      "        0.125     , -0.125     ,  0.        ,  0.125     ,  0.        ,\n",
      "       -0.125     ,  0.25      ,  0.125     ,  0.125     , -0.25      ,\n",
      "       -0.375     ,  0.375     ,  0.125     ,  0.25      ,  0.375     ,\n",
      "        0.        , -0.375     , -0.25      ,  0.        ,  0.25      ,\n",
      "        0.        , -0.25      , -0.125     ,  0.125     ,  0.375     ,\n",
      "        0.25      , -0.25      ,  0.        ,  0.25      ,  0.125     ,\n",
      "        0.35714286,  0.21428571, -0.05357143, -0.32142857, -0.16071429,\n",
      "        0.23214286, -0.28571429, -0.17857143, -0.01785714, -0.05357143,\n",
      "        0.375     , -0.14285714, -0.14285714,  0.25      ,  0.10714286,\n",
      "        0.10714286, -0.17857143,  0.48214286, -0.03571429,  0.23214286]), array([-0.00661376,  0.02777778,  0.14021164, -0.04497354, -0.1521164 ,\n",
      "        0.06746032,  0.24603175,  0.06349206, -0.04232804, -0.18915344,\n",
      "       -0.11772487, -0.11904762,  0.03042328, -0.04232804, -0.00529101,\n",
      "       -0.11375661, -0.11507937, -0.04100529,  0.03439153,  0.06613757,\n",
      "        0.13624339,  0.03174603, -0.00925926,  0.09920635, -0.1521164 ,\n",
      "        0.1031746 ,  0.1031746 , -0.08068783, -0.22883598,  0.10449735,\n",
      "        0.        ,  0.11538462, -0.07692308, -0.03846154,  0.03846154,\n",
      "        0.03846154, -0.15384615,  0.03846154, -0.03846154, -0.07692308,\n",
      "       -0.11538462,  0.        , -0.30769231,  0.03846154, -0.03846154,\n",
      "        0.        , -0.11538462,  0.07692308,  0.23076923, -0.07692308,\n",
      "        0.07692308,  0.        ,  0.03846154,  0.        ,  0.15384615,\n",
      "        0.07692308, -0.15384615, -0.23076923, -0.03846154,  0.03846154,\n",
      "       -0.15384615, -0.07692308,  0.23076923, -0.07692308,  0.07692308,\n",
      "        0.07692308, -0.03846154, -0.03846154, -0.07692308, -0.15384615,\n",
      "        0.03846154, -0.19230769,  0.03846154,  0.07692308, -0.11538462,\n",
      "        0.        ,  0.07692308, -0.11538462, -0.15384615, -0.19230769,\n",
      "        0.03846154,  0.        ,  0.03846154, -0.07692308,  0.        ,\n",
      "       -0.15384615, -0.23076923, -0.07692308,  0.07692308,  0.15384615,\n",
      "       -0.19230769, -0.07692308, -0.19230769,  0.03846154,  0.03846154,\n",
      "       -0.07692308,  0.07692308,  0.        , -0.11538462,  0.        ]), array([-0.11111111,  0.        ,  0.05555556,  0.11111111,  0.08333333,\n",
      "       -0.05555556, -0.05555556, -0.02777778, -0.05555556,  0.02777778,\n",
      "        0.05555556, -0.02777778, -0.11111111, -0.08333333, -0.05555556,\n",
      "        0.        ,  0.11111111,  0.13888889,  0.        ,  0.22222222,\n",
      "        0.02777778, -0.02777778,  0.08333333, -0.02777778, -0.05555556,\n",
      "        0.05555556,  0.11111111, -0.02777778, -0.27777778, -0.05555556,\n",
      "        0.        ,  0.        , -0.05555556, -0.02777778,  0.13888889,\n",
      "       -0.16666667, -0.08333333, -0.05555556,  0.13888889, -0.13888889,\n",
      "        0.05555556,  0.05555556, -0.16666667,  0.        ,  0.13888889,\n",
      "        0.02777778,  0.08333333,  0.05555556,  0.02777778, -0.11111111,\n",
      "        0.08333333, -0.16666667,  0.05555556, -0.05555556, -0.02777778,\n",
      "        0.        , -0.08333333, -0.11111111,  0.13888889,  0.02777778,\n",
      "        0.02777778,  0.08333333, -0.05555556,  0.        ,  0.02777778,\n",
      "       -0.11111111, -0.13888889, -0.13888889, -0.08333333, -0.05555556,\n",
      "       -0.13888889, -0.02777778,  0.11111111,  0.11111111, -0.11111111,\n",
      "       -0.05555556,  0.05555556,  0.        ,  0.05555556, -0.08333333,\n",
      "        0.16031746,  0.10634921,  0.10555556,  0.02380952, -0.06349206,\n",
      "        0.02142857, -0.03333333, -0.03333333, -0.12063492,  0.05079365,\n",
      "       -0.08571429, -0.02857143, -0.02857143,  0.11428571, -0.02857143,\n",
      "       -0.05714286, -0.08571429, -0.08571429, -0.14285714, -0.05714286])]\n"
     ]
    }
   ],
   "source": [
    "import numpy as np\n",
    "import os \n",
    "\n",
    "med=[]\n",
    "for art in os.listdir(\"medvedeva2/\") :\n",
    "    med.append(np.loadtxt(\"medvedeva/\"+art))\n",
    "model=[]\n",
    "for art in os.listdir(\"results/\") :\n",
    "    model.append(np.loadtxt(\"results/\"+art))\n",
    "scores=[]\n",
    "for i in range(9) :\n",
    "    diff = model[i] - med[i]\n",
    "    scores.append(np.reshape(diff,100,'float'))      \n",
    "names = (\"Medvedeva\", \"Model 5\")\n",
    "print(scores)                    "
   ]
  },
  {
   "cell_type": "markdown",
   "metadata": {},
   "source": [
    "### Summarizing probabilities\n",
    "Function `hierarchical(scores,rope,rho, verbose, names=names)`  computes the Bayesian hierarchical test and returns the probabilities that the difference (the score of the first classifier minus the score of the first) is negative, within rope or positive."
   ]
  },
  {
   "cell_type": "code",
   "execution_count": 7,
   "metadata": {},
   "outputs": [],
   "source": [
    "import pystan"
   ]
  },
  {
   "cell_type": "code",
   "execution_count": 23,
   "metadata": {},
   "outputs": [
    {
     "name": "stderr",
     "output_type": "stream",
     "text": [
      "INFO:pystan:COMPILING THE C++ CODE FOR MODEL anon_model_33bc9a7b9c23a55d1f884ac889fca027 NOW.\n",
      "/anaconda2/envs/py3k/lib/python3.6/site-packages/pystan/misc.py:399: FutureWarning: Conversion of the second argument of issubdtype from `float` to `np.floating` is deprecated. In future, it will be treated as `np.float64 == np.dtype(float).type`.\n",
      "  elif np.issubdtype(np.asarray(v).dtype, float):\n"
     ]
    }
   ],
   "source": [
    "import bayesiantests as bt    \n",
    "rope=0.08 #we consider two classifers equivalent when the difference of accuracy is less that 1%  \n",
    "rho=1/10 #we are performing 10 folds, 10 runs cross-validation\n",
    "pleft, prope, pright=bt.hierarchical(scores,rope,rho)"
   ]
  },
  {
   "cell_type": "markdown",
   "metadata": {},
   "source": [
    "\n",
    "The first value (<code>left</code>) is the probability that the the differences of accuracies is negative (and, therefore, in favor of Medvedeva). The third value (<code>right</code>) is the probability that the the differences of accuracies are positive (and, therefore, in favor of Model 5). The second is the probability of the two classifiers to be practically equivalent, i.e., the difference within the rope.\n",
    "\n",
    "If we add arguments `verbose` and `names`, the function also prints out the probabilities."
   ]
  },
  {
   "cell_type": "code",
   "execution_count": 24,
   "metadata": {},
   "outputs": [
    {
     "name": "stderr",
     "output_type": "stream",
     "text": [
      "INFO:pystan:COMPILING THE C++ CODE FOR MODEL anon_model_33bc9a7b9c23a55d1f884ac889fca027 NOW.\n",
      "/anaconda2/envs/py3k/lib/python3.6/site-packages/pystan/misc.py:399: FutureWarning: Conversion of the second argument of issubdtype from `float` to `np.floating` is deprecated. In future, it will be treated as `np.float64 == np.dtype(float).type`.\n",
      "  elif np.issubdtype(np.asarray(v).dtype, float):\n"
     ]
    },
    {
     "name": "stdout",
     "output_type": "stream",
     "text": [
      "P(Medvedeva > Model 5) = 0.0235, P(rope) = 0.9685, P(Model 5 > Medvedeva) = 0.008\n"
     ]
    }
   ],
   "source": [
    "pl, pe, pr=bt.hierarchical(scores,rope,rho, verbose=True, names=names)"
   ]
  },
  {
   "cell_type": "markdown",
   "metadata": {},
   "source": [
    "The posterior distribution can be plotted out:\n",
    "1. using the function `hierarchical_MC(scores,rope,rho, names=names)` we generate the samples of the posterior\n",
    "2. using the function `plot_posterior(samples,names=('C1', 'C2'))` we then plot the posterior in the probability simplex"
   ]
  },
  {
   "cell_type": "code",
   "execution_count": 25,
   "metadata": {},
   "outputs": [
    {
     "name": "stderr",
     "output_type": "stream",
     "text": [
      "INFO:pystan:COMPILING THE C++ CODE FOR MODEL anon_model_33bc9a7b9c23a55d1f884ac889fca027 NOW.\n",
      "/anaconda2/envs/py3k/lib/python3.6/site-packages/pystan/misc.py:399: FutureWarning: Conversion of the second argument of issubdtype from `float` to `np.floating` is deprecated. In future, it will be treated as `np.float64 == np.dtype(float).type`.\n",
      "  elif np.issubdtype(np.asarray(v).dtype, float):\n"
     ]
    },
    {
     "data": {
      "image/png": "[encoded data removed]",
      "text/plain": [
       "<Figure size 576x504 with 1 Axes>"
      ]
     },
     "metadata": {},
     "output_type": "display_data"
    }
   ],
   "source": [
    "%matplotlib inline\n",
    "import matplotlib.pyplot as plt\n",
    "\n",
    "samples=bt.hierarchical_MC(scores,rope,rho, names=names)\n",
    "\n",
    "#plt.rcParams['figure.facecolor'] = 'black'\n",
    "\n",
    "fig = bt.plot_posterior(samples,names)\n",
    "plt.savefig('triangle_hierarchical.png',facecolor=\"black\")\n",
    "plt.show()"
   ]
  },
  {
   "cell_type": "markdown",
   "metadata": {},
   "source": [
    "It can be seen that the posterior mass is in the region in favor of HNB and so it confirms that the classifier is better than NBC. From the posterior we have also an idea of the magnitude of the uncertainty and the \"stability\" of our inference."
   ]
  },
  {
   "cell_type": "markdown",
   "metadata": {
    "heading_collapsed": true
   },
   "source": [
    "### References\n",
    "\n",
    "\n",
    "`@ARTICLE{bayesiantests2016,\n",
    "   author = {{Benavoli}, A. and {Corani}, G. and {Demsar}, J. and {Zaffalon}, M.},\n",
    "   title = \"{Time for a change: a tutorial for comparing multiple classifiers through Bayesian analysis}\",\n",
    "   journal = {ArXiv e-prints},\n",
    "   archivePrefix = \"arXiv\",\n",
    "   eprint = {1606.04316},\n",
    "   url={https://arxiv.org/abs/1606.04316},\n",
    "   year = 2016,\n",
    "   month = jun\n",
    "}`\n",
    "\n",
    "`@article{corani2016unpub,\n",
    "title = { Statistical comparison of classifiers through Bayesian hierarchical modelling},\n",
    "author = {Corani, Giorgio and Benavoli, Alessio and Demsar, Janez and Mangili, Francesca and Zaffalon, Marco},\n",
    "url = {http://ipg.idsia.ch/preprints/corani2016b.pdf},\n",
    "year = {2016},\n",
    "date = {2016-01-01},\n",
    "institution = {technical report IDSIA},\n",
    "keywords = {},\n",
    "pubstate = {published},\n",
    "tppubtype = {article}\n",
    "}`\n",
    "\n"
   ]
  }
 ],
 "metadata": {
  "kernelspec": {
   "display_name": "Python 3",
   "language": "python",
   "name": "python3"
  },
  "language_info": {
   "codemirror_mode": {
    "name": "ipython",
    "version": 3
   },
   "file_extension": ".py",
   "mimetype": "text/x-python",
   "name": "python",
   "nbconvert_exporter": "python",
   "pygments_lexer": "ipython3",
   "version": "3.6.5"
  },
  "varInspector": {
   "cols": {
    "lenName": 16,
    "lenType": 16,
    "lenVar": 40
   },
   "kernels_config": {
    "python": {
     "delete_cmd_postfix": "",
     "delete_cmd_prefix": "del ",
     "library": "var_list.py",
     "varRefreshCmd": "print(var_dic_list())"
    },
    "r": {
     "delete_cmd_postfix": ") ",
     "delete_cmd_prefix": "rm(",
     "library": "var_list.r",
     "varRefreshCmd": "cat(var_dic_list()) "
    }
   },
   "types_to_exclude": [
    "module",
    "function",
    "builtin_function_or_method",
    "instance",
    "_Feature"
   ],
   "window_display": false
  }
 },
 "nbformat": 4,
 "nbformat_minor": 1
}
